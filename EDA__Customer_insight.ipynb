{
  "nbformat": 4,
  "nbformat_minor": 0,
  "metadata": {
    "colab": {
      "provenance": []
    },
    "kernelspec": {
      "name": "python3",
      "display_name": "Python 3"
    },
    "language_info": {
      "name": "python"
    }
  },
  "cells": [
    {
      "cell_type": "markdown",
      "source": [
        "**1. import library**"
      ],
      "metadata": {
        "id": "y5vIP0R5Isdy"
      }
    },
    {
      "cell_type": "code",
      "execution_count": 1,
      "metadata": {
        "id": "PdtcEAINErA1"
      },
      "outputs": [],
      "source": [
        "import pandas as pd\n",
        "import numpy as np\n",
        "import matplotlib.pyplot as plt\n",
        "import seaborn as sns"
      ]
    },
    {
      "cell_type": "markdown",
      "source": [
        "**2. Import file**"
      ],
      "metadata": {
        "id": "3sjfEyCyIxt7"
      }
    },
    {
      "cell_type": "code",
      "source": [
        "gsheetid_order= \"1NsSwcFqtFF4p1KQZb6GBhx4cCALi3O2hJJrriMTF0BE\"\n",
        "sheet_name_order ='ml_project1_data'\n",
        "gsheet_url_order= \"https://docs.google.com/spreadsheets/d/{}/gviz/tq?tqx=out:csv&sheet={}\".format(gsheetid_order,sheet_name_order)\n",
        "df = pd.read_csv(gsheet_url_order)"
      ],
      "metadata": {
        "id": "doFV8TgQIZzA"
      },
      "execution_count": 2,
      "outputs": []
    },
    {
      "cell_type": "markdown",
      "source": [
        "**3. EDA **"
      ],
      "metadata": {
        "id": "WoMLBE-dI2cm"
      }
    },
    {
      "cell_type": "code",
      "source": [
        "df.info()"
      ],
      "metadata": {
        "colab": {
          "base_uri": "https://localhost:8080/"
        },
        "id": "wXW677mkI9QY",
        "outputId": "6e4940c8-3fba-4392-b0e6-b24c9dd69e14"
      },
      "execution_count": 3,
      "outputs": [
        {
          "output_type": "stream",
          "name": "stdout",
          "text": [
            "<class 'pandas.core.frame.DataFrame'>\n",
            "RangeIndex: 2240 entries, 0 to 2239\n",
            "Data columns (total 29 columns):\n",
            " #   Column               Non-Null Count  Dtype  \n",
            "---  ------               --------------  -----  \n",
            " 0   ID                   2240 non-null   int64  \n",
            " 1   Year_Birth           2240 non-null   int64  \n",
            " 2   Education            2240 non-null   object \n",
            " 3   Marital_Status       2240 non-null   object \n",
            " 4   Income               2216 non-null   float64\n",
            " 5   Kidhome              2240 non-null   int64  \n",
            " 6   Teenhome             2240 non-null   int64  \n",
            " 7   Dt_Customer          2240 non-null   object \n",
            " 8   Recency              2240 non-null   int64  \n",
            " 9   MntWines             2240 non-null   int64  \n",
            " 10  MntFruits            2240 non-null   int64  \n",
            " 11  MntMeatProducts      2240 non-null   int64  \n",
            " 12  MntFishProducts      2240 non-null   int64  \n",
            " 13  MntSweetProducts     2240 non-null   int64  \n",
            " 14  MntGoldProds         2240 non-null   int64  \n",
            " 15  NumDealsPurchases    2240 non-null   int64  \n",
            " 16  NumWebPurchases      2240 non-null   int64  \n",
            " 17  NumCatalogPurchases  2240 non-null   int64  \n",
            " 18  NumStorePurchases    2240 non-null   int64  \n",
            " 19  NumWebVisitsMonth    2240 non-null   int64  \n",
            " 20  AcceptedCmp3         2240 non-null   int64  \n",
            " 21  AcceptedCmp4         2240 non-null   int64  \n",
            " 22  AcceptedCmp5         2240 non-null   int64  \n",
            " 23  AcceptedCmp1         2240 non-null   int64  \n",
            " 24  AcceptedCmp2         2240 non-null   int64  \n",
            " 25  Complain             2240 non-null   int64  \n",
            " 26  Z_CostContact        2240 non-null   int64  \n",
            " 27  Z_Revenue            2240 non-null   int64  \n",
            " 28  Response             2240 non-null   int64  \n",
            "dtypes: float64(1), int64(25), object(3)\n",
            "memory usage: 507.6+ KB\n"
          ]
        }
      ]
    },
    {
      "cell_type": "code",
      "source": [
        "## check null and missing data##\n",
        "df.isnull().sum()"
      ],
      "metadata": {
        "colab": {
          "base_uri": "https://localhost:8080/"
        },
        "id": "gXYN8B4LJBiM",
        "outputId": "636bd731-ae85-43f4-b69d-c4e2d1b5f06a"
      },
      "execution_count": 4,
      "outputs": [
        {
          "output_type": "execute_result",
          "data": {
            "text/plain": [
              "ID                      0\n",
              "Year_Birth              0\n",
              "Education               0\n",
              "Marital_Status          0\n",
              "Income                 24\n",
              "Kidhome                 0\n",
              "Teenhome                0\n",
              "Dt_Customer             0\n",
              "Recency                 0\n",
              "MntWines                0\n",
              "MntFruits               0\n",
              "MntMeatProducts         0\n",
              "MntFishProducts         0\n",
              "MntSweetProducts        0\n",
              "MntGoldProds            0\n",
              "NumDealsPurchases       0\n",
              "NumWebPurchases         0\n",
              "NumCatalogPurchases     0\n",
              "NumStorePurchases       0\n",
              "NumWebVisitsMonth       0\n",
              "AcceptedCmp3            0\n",
              "AcceptedCmp4            0\n",
              "AcceptedCmp5            0\n",
              "AcceptedCmp1            0\n",
              "AcceptedCmp2            0\n",
              "Complain                0\n",
              "Z_CostContact           0\n",
              "Z_Revenue               0\n",
              "Response                0\n",
              "dtype: int64"
            ]
          },
          "metadata": {},
          "execution_count": 4
        }
      ]
    },
    {
      "cell_type": "code",
      "source": [
        "## Delete missing data##\n",
        "df= df.dropna()"
      ],
      "metadata": {
        "id": "V_O6t0jQJiHC"
      },
      "execution_count": 5,
      "outputs": []
    },
    {
      "cell_type": "code",
      "source": [
        "##Mining data##\n",
        "## Creat New Column Age##\n",
        "df['age'] = 2022 -df['Year_Birth']"
      ],
      "metadata": {
        "id": "UqTWvXeMJ4tg"
      },
      "execution_count": 6,
      "outputs": []
    },
    {
      "cell_type": "code",
      "source": [
        "df.info()"
      ],
      "metadata": {
        "colab": {
          "base_uri": "https://localhost:8080/"
        },
        "id": "gM99IxVySOb2",
        "outputId": "01317bcb-d4af-4ec2-c700-e98bf7c27703"
      },
      "execution_count": 7,
      "outputs": [
        {
          "output_type": "stream",
          "name": "stdout",
          "text": [
            "<class 'pandas.core.frame.DataFrame'>\n",
            "Int64Index: 2216 entries, 0 to 2239\n",
            "Data columns (total 30 columns):\n",
            " #   Column               Non-Null Count  Dtype  \n",
            "---  ------               --------------  -----  \n",
            " 0   ID                   2216 non-null   int64  \n",
            " 1   Year_Birth           2216 non-null   int64  \n",
            " 2   Education            2216 non-null   object \n",
            " 3   Marital_Status       2216 non-null   object \n",
            " 4   Income               2216 non-null   float64\n",
            " 5   Kidhome              2216 non-null   int64  \n",
            " 6   Teenhome             2216 non-null   int64  \n",
            " 7   Dt_Customer          2216 non-null   object \n",
            " 8   Recency              2216 non-null   int64  \n",
            " 9   MntWines             2216 non-null   int64  \n",
            " 10  MntFruits            2216 non-null   int64  \n",
            " 11  MntMeatProducts      2216 non-null   int64  \n",
            " 12  MntFishProducts      2216 non-null   int64  \n",
            " 13  MntSweetProducts     2216 non-null   int64  \n",
            " 14  MntGoldProds         2216 non-null   int64  \n",
            " 15  NumDealsPurchases    2216 non-null   int64  \n",
            " 16  NumWebPurchases      2216 non-null   int64  \n",
            " 17  NumCatalogPurchases  2216 non-null   int64  \n",
            " 18  NumStorePurchases    2216 non-null   int64  \n",
            " 19  NumWebVisitsMonth    2216 non-null   int64  \n",
            " 20  AcceptedCmp3         2216 non-null   int64  \n",
            " 21  AcceptedCmp4         2216 non-null   int64  \n",
            " 22  AcceptedCmp5         2216 non-null   int64  \n",
            " 23  AcceptedCmp1         2216 non-null   int64  \n",
            " 24  AcceptedCmp2         2216 non-null   int64  \n",
            " 25  Complain             2216 non-null   int64  \n",
            " 26  Z_CostContact        2216 non-null   int64  \n",
            " 27  Z_Revenue            2216 non-null   int64  \n",
            " 28  Response             2216 non-null   int64  \n",
            " 29  age                  2216 non-null   int64  \n",
            "dtypes: float64(1), int64(26), object(3)\n",
            "memory usage: 536.7+ KB\n"
          ]
        }
      ]
    },
    {
      "cell_type": "code",
      "source": [
        "## Create New column##\n",
        "df['dependence'] = df['Kidhome'] + df['Teenhome']\n",
        "df['Acceptedall'] = df['AcceptedCmp1'] + df['AcceptedCmp2'] + df['AcceptedCmp3'] + df['AcceptedCmp4'] + df['AcceptedCmp5'] + df['Response'] \n",
        "df['Mnttotal'] = df['MntFishProducts'] + df['MntFruits'] + df['MntMeatProducts'] + df['MntSweetProducts'] + df['MntWines']"
      ],
      "metadata": {
        "id": "2gqgFvwjDFmR"
      },
      "execution_count": 8,
      "outputs": []
    },
    {
      "cell_type": "code",
      "source": [
        "## remove column##\n",
        "df= df.drop(['Year_Birth','Kidhome','Teenhome','Z_CostContact','Z_Revenue'], axis=1)"
      ],
      "metadata": {
        "id": "ossCFjzOD4BX"
      },
      "execution_count": 9,
      "outputs": []
    },
    {
      "cell_type": "code",
      "source": [
        "df.info()"
      ],
      "metadata": {
        "colab": {
          "base_uri": "https://localhost:8080/"
        },
        "id": "Wb8ku-GLL8Rg",
        "outputId": "a94a372e-f006-49b4-e9e0-a3bfd5ef3907"
      },
      "execution_count": 10,
      "outputs": [
        {
          "output_type": "stream",
          "name": "stdout",
          "text": [
            "<class 'pandas.core.frame.DataFrame'>\n",
            "Int64Index: 2216 entries, 0 to 2239\n",
            "Data columns (total 28 columns):\n",
            " #   Column               Non-Null Count  Dtype  \n",
            "---  ------               --------------  -----  \n",
            " 0   ID                   2216 non-null   int64  \n",
            " 1   Education            2216 non-null   object \n",
            " 2   Marital_Status       2216 non-null   object \n",
            " 3   Income               2216 non-null   float64\n",
            " 4   Dt_Customer          2216 non-null   object \n",
            " 5   Recency              2216 non-null   int64  \n",
            " 6   MntWines             2216 non-null   int64  \n",
            " 7   MntFruits            2216 non-null   int64  \n",
            " 8   MntMeatProducts      2216 non-null   int64  \n",
            " 9   MntFishProducts      2216 non-null   int64  \n",
            " 10  MntSweetProducts     2216 non-null   int64  \n",
            " 11  MntGoldProds         2216 non-null   int64  \n",
            " 12  NumDealsPurchases    2216 non-null   int64  \n",
            " 13  NumWebPurchases      2216 non-null   int64  \n",
            " 14  NumCatalogPurchases  2216 non-null   int64  \n",
            " 15  NumStorePurchases    2216 non-null   int64  \n",
            " 16  NumWebVisitsMonth    2216 non-null   int64  \n",
            " 17  AcceptedCmp3         2216 non-null   int64  \n",
            " 18  AcceptedCmp4         2216 non-null   int64  \n",
            " 19  AcceptedCmp5         2216 non-null   int64  \n",
            " 20  AcceptedCmp1         2216 non-null   int64  \n",
            " 21  AcceptedCmp2         2216 non-null   int64  \n",
            " 22  Complain             2216 non-null   int64  \n",
            " 23  Response             2216 non-null   int64  \n",
            " 24  age                  2216 non-null   int64  \n",
            " 25  dependence           2216 non-null   int64  \n",
            " 26  Acceptedall          2216 non-null   int64  \n",
            " 27  Mnttotal             2216 non-null   int64  \n",
            "dtypes: float64(1), int64(24), object(3)\n",
            "memory usage: 502.1+ KB\n"
          ]
        }
      ]
    },
    {
      "cell_type": "code",
      "source": [
        "pd.unique(df['Marital_Status'])"
      ],
      "metadata": {
        "colab": {
          "base_uri": "https://localhost:8080/"
        },
        "id": "KOZPHck9VkCG",
        "outputId": "14ff14a8-0564-41dc-9e07-1c83eecfa341"
      },
      "execution_count": 11,
      "outputs": [
        {
          "output_type": "execute_result",
          "data": {
            "text/plain": [
              "array(['Single', 'Together', 'Married', 'Divorced', 'Widow', 'Alone',\n",
              "       'Absurd', 'YOLO'], dtype=object)"
            ]
          },
          "metadata": {},
          "execution_count": 11
        }
      ]
    },
    {
      "cell_type": "code",
      "source": [
        "## change variable in Marial status column##\n",
        "df = df.replace (to_replace= [\"Widow\", 'Alone', 'Absurd', 'YOLO'],value = 'Single')"
      ],
      "metadata": {
        "id": "wmNPuf39L4lc"
      },
      "execution_count": 12,
      "outputs": []
    },
    {
      "cell_type": "code",
      "source": [
        "df.describe()"
      ],
      "metadata": {
        "id": "tUN5TDcuSkff",
        "colab": {
          "base_uri": "https://localhost:8080/",
          "height": 394
        },
        "outputId": "67f435ea-f09f-45bf-ebcd-f0e08f08f990"
      },
      "execution_count": 13,
      "outputs": [
        {
          "output_type": "execute_result",
          "data": {
            "text/plain": [
              "                 ID         Income      Recency     MntWines    MntFruits  \\\n",
              "count   2216.000000    2216.000000  2216.000000  2216.000000  2216.000000   \n",
              "mean    5588.353339   52247.251354    49.012635   305.091606    26.356047   \n",
              "std     3249.376275   25173.076661    28.948352   337.327920    39.793917   \n",
              "min        0.000000    1730.000000     0.000000     0.000000     0.000000   \n",
              "25%     2814.750000   35303.000000    24.000000    24.000000     2.000000   \n",
              "50%     5458.500000   51381.500000    49.000000   174.500000     8.000000   \n",
              "75%     8421.750000   68522.000000    74.000000   505.000000    33.000000   \n",
              "max    11191.000000  666666.000000    99.000000  1493.000000   199.000000   \n",
              "\n",
              "       MntMeatProducts  MntFishProducts  MntSweetProducts  MntGoldProds  \\\n",
              "count      2216.000000      2216.000000       2216.000000   2216.000000   \n",
              "mean        166.995939        37.637635         27.028881     43.965253   \n",
              "std         224.283273        54.752082         41.072046     51.815414   \n",
              "min           0.000000         0.000000          0.000000      0.000000   \n",
              "25%          16.000000         3.000000          1.000000      9.000000   \n",
              "50%          68.000000        12.000000          8.000000     24.500000   \n",
              "75%         232.250000        50.000000         33.000000     56.000000   \n",
              "max        1725.000000       259.000000        262.000000    321.000000   \n",
              "\n",
              "       NumDealsPurchases  ...  AcceptedCmp4  AcceptedCmp5  AcceptedCmp1  \\\n",
              "count        2216.000000  ...   2216.000000   2216.000000   2216.000000   \n",
              "mean            2.323556  ...      0.074007      0.073105      0.064079   \n",
              "std             1.923716  ...      0.261842      0.260367      0.244950   \n",
              "min             0.000000  ...      0.000000      0.000000      0.000000   \n",
              "25%             1.000000  ...      0.000000      0.000000      0.000000   \n",
              "50%             2.000000  ...      0.000000      0.000000      0.000000   \n",
              "75%             3.000000  ...      0.000000      0.000000      0.000000   \n",
              "max            15.000000  ...      1.000000      1.000000      1.000000   \n",
              "\n",
              "       AcceptedCmp2     Complain     Response          age   dependence  \\\n",
              "count   2216.000000  2216.000000  2216.000000  2216.000000  2216.000000   \n",
              "mean       0.013538     0.009477     0.150271    53.179603     0.947202   \n",
              "std        0.115588     0.096907     0.357417    11.985554     0.749062   \n",
              "min        0.000000     0.000000     0.000000    26.000000     0.000000   \n",
              "25%        0.000000     0.000000     0.000000    45.000000     0.000000   \n",
              "50%        0.000000     0.000000     0.000000    52.000000     1.000000   \n",
              "75%        0.000000     0.000000     0.000000    63.000000     1.000000   \n",
              "max        1.000000     1.000000     1.000000   129.000000     3.000000   \n",
              "\n",
              "       Acceptedall     Mnttotal  \n",
              "count  2216.000000  2216.000000  \n",
              "mean      0.448556   563.110108  \n",
              "std       0.892440   577.183371  \n",
              "min       0.000000     4.000000  \n",
              "25%       0.000000    55.000000  \n",
              "50%       0.000000   342.500000  \n",
              "75%       1.000000   964.000000  \n",
              "max       5.000000  2491.000000  \n",
              "\n",
              "[8 rows x 25 columns]"
            ],
            "text/html": [
              "\n",
              "  <div id=\"df-c22a8680-50da-4292-98cc-e68eefa86d18\">\n",
              "    <div class=\"colab-df-container\">\n",
              "      <div>\n",
              "<style scoped>\n",
              "    .dataframe tbody tr th:only-of-type {\n",
              "        vertical-align: middle;\n",
              "    }\n",
              "\n",
              "    .dataframe tbody tr th {\n",
              "        vertical-align: top;\n",
              "    }\n",
              "\n",
              "    .dataframe thead th {\n",
              "        text-align: right;\n",
              "    }\n",
              "</style>\n",
              "<table border=\"1\" class=\"dataframe\">\n",
              "  <thead>\n",
              "    <tr style=\"text-align: right;\">\n",
              "      <th></th>\n",
              "      <th>ID</th>\n",
              "      <th>Income</th>\n",
              "      <th>Recency</th>\n",
              "      <th>MntWines</th>\n",
              "      <th>MntFruits</th>\n",
              "      <th>MntMeatProducts</th>\n",
              "      <th>MntFishProducts</th>\n",
              "      <th>MntSweetProducts</th>\n",
              "      <th>MntGoldProds</th>\n",
              "      <th>NumDealsPurchases</th>\n",
              "      <th>...</th>\n",
              "      <th>AcceptedCmp4</th>\n",
              "      <th>AcceptedCmp5</th>\n",
              "      <th>AcceptedCmp1</th>\n",
              "      <th>AcceptedCmp2</th>\n",
              "      <th>Complain</th>\n",
              "      <th>Response</th>\n",
              "      <th>age</th>\n",
              "      <th>dependence</th>\n",
              "      <th>Acceptedall</th>\n",
              "      <th>Mnttotal</th>\n",
              "    </tr>\n",
              "  </thead>\n",
              "  <tbody>\n",
              "    <tr>\n",
              "      <th>count</th>\n",
              "      <td>2216.000000</td>\n",
              "      <td>2216.000000</td>\n",
              "      <td>2216.000000</td>\n",
              "      <td>2216.000000</td>\n",
              "      <td>2216.000000</td>\n",
              "      <td>2216.000000</td>\n",
              "      <td>2216.000000</td>\n",
              "      <td>2216.000000</td>\n",
              "      <td>2216.000000</td>\n",
              "      <td>2216.000000</td>\n",
              "      <td>...</td>\n",
              "      <td>2216.000000</td>\n",
              "      <td>2216.000000</td>\n",
              "      <td>2216.000000</td>\n",
              "      <td>2216.000000</td>\n",
              "      <td>2216.000000</td>\n",
              "      <td>2216.000000</td>\n",
              "      <td>2216.000000</td>\n",
              "      <td>2216.000000</td>\n",
              "      <td>2216.000000</td>\n",
              "      <td>2216.000000</td>\n",
              "    </tr>\n",
              "    <tr>\n",
              "      <th>mean</th>\n",
              "      <td>5588.353339</td>\n",
              "      <td>52247.251354</td>\n",
              "      <td>49.012635</td>\n",
              "      <td>305.091606</td>\n",
              "      <td>26.356047</td>\n",
              "      <td>166.995939</td>\n",
              "      <td>37.637635</td>\n",
              "      <td>27.028881</td>\n",
              "      <td>43.965253</td>\n",
              "      <td>2.323556</td>\n",
              "      <td>...</td>\n",
              "      <td>0.074007</td>\n",
              "      <td>0.073105</td>\n",
              "      <td>0.064079</td>\n",
              "      <td>0.013538</td>\n",
              "      <td>0.009477</td>\n",
              "      <td>0.150271</td>\n",
              "      <td>53.179603</td>\n",
              "      <td>0.947202</td>\n",
              "      <td>0.448556</td>\n",
              "      <td>563.110108</td>\n",
              "    </tr>\n",
              "    <tr>\n",
              "      <th>std</th>\n",
              "      <td>3249.376275</td>\n",
              "      <td>25173.076661</td>\n",
              "      <td>28.948352</td>\n",
              "      <td>337.327920</td>\n",
              "      <td>39.793917</td>\n",
              "      <td>224.283273</td>\n",
              "      <td>54.752082</td>\n",
              "      <td>41.072046</td>\n",
              "      <td>51.815414</td>\n",
              "      <td>1.923716</td>\n",
              "      <td>...</td>\n",
              "      <td>0.261842</td>\n",
              "      <td>0.260367</td>\n",
              "      <td>0.244950</td>\n",
              "      <td>0.115588</td>\n",
              "      <td>0.096907</td>\n",
              "      <td>0.357417</td>\n",
              "      <td>11.985554</td>\n",
              "      <td>0.749062</td>\n",
              "      <td>0.892440</td>\n",
              "      <td>577.183371</td>\n",
              "    </tr>\n",
              "    <tr>\n",
              "      <th>min</th>\n",
              "      <td>0.000000</td>\n",
              "      <td>1730.000000</td>\n",
              "      <td>0.000000</td>\n",
              "      <td>0.000000</td>\n",
              "      <td>0.000000</td>\n",
              "      <td>0.000000</td>\n",
              "      <td>0.000000</td>\n",
              "      <td>0.000000</td>\n",
              "      <td>0.000000</td>\n",
              "      <td>0.000000</td>\n",
              "      <td>...</td>\n",
              "      <td>0.000000</td>\n",
              "      <td>0.000000</td>\n",
              "      <td>0.000000</td>\n",
              "      <td>0.000000</td>\n",
              "      <td>0.000000</td>\n",
              "      <td>0.000000</td>\n",
              "      <td>26.000000</td>\n",
              "      <td>0.000000</td>\n",
              "      <td>0.000000</td>\n",
              "      <td>4.000000</td>\n",
              "    </tr>\n",
              "    <tr>\n",
              "      <th>25%</th>\n",
              "      <td>2814.750000</td>\n",
              "      <td>35303.000000</td>\n",
              "      <td>24.000000</td>\n",
              "      <td>24.000000</td>\n",
              "      <td>2.000000</td>\n",
              "      <td>16.000000</td>\n",
              "      <td>3.000000</td>\n",
              "      <td>1.000000</td>\n",
              "      <td>9.000000</td>\n",
              "      <td>1.000000</td>\n",
              "      <td>...</td>\n",
              "      <td>0.000000</td>\n",
              "      <td>0.000000</td>\n",
              "      <td>0.000000</td>\n",
              "      <td>0.000000</td>\n",
              "      <td>0.000000</td>\n",
              "      <td>0.000000</td>\n",
              "      <td>45.000000</td>\n",
              "      <td>0.000000</td>\n",
              "      <td>0.000000</td>\n",
              "      <td>55.000000</td>\n",
              "    </tr>\n",
              "    <tr>\n",
              "      <th>50%</th>\n",
              "      <td>5458.500000</td>\n",
              "      <td>51381.500000</td>\n",
              "      <td>49.000000</td>\n",
              "      <td>174.500000</td>\n",
              "      <td>8.000000</td>\n",
              "      <td>68.000000</td>\n",
              "      <td>12.000000</td>\n",
              "      <td>8.000000</td>\n",
              "      <td>24.500000</td>\n",
              "      <td>2.000000</td>\n",
              "      <td>...</td>\n",
              "      <td>0.000000</td>\n",
              "      <td>0.000000</td>\n",
              "      <td>0.000000</td>\n",
              "      <td>0.000000</td>\n",
              "      <td>0.000000</td>\n",
              "      <td>0.000000</td>\n",
              "      <td>52.000000</td>\n",
              "      <td>1.000000</td>\n",
              "      <td>0.000000</td>\n",
              "      <td>342.500000</td>\n",
              "    </tr>\n",
              "    <tr>\n",
              "      <th>75%</th>\n",
              "      <td>8421.750000</td>\n",
              "      <td>68522.000000</td>\n",
              "      <td>74.000000</td>\n",
              "      <td>505.000000</td>\n",
              "      <td>33.000000</td>\n",
              "      <td>232.250000</td>\n",
              "      <td>50.000000</td>\n",
              "      <td>33.000000</td>\n",
              "      <td>56.000000</td>\n",
              "      <td>3.000000</td>\n",
              "      <td>...</td>\n",
              "      <td>0.000000</td>\n",
              "      <td>0.000000</td>\n",
              "      <td>0.000000</td>\n",
              "      <td>0.000000</td>\n",
              "      <td>0.000000</td>\n",
              "      <td>0.000000</td>\n",
              "      <td>63.000000</td>\n",
              "      <td>1.000000</td>\n",
              "      <td>1.000000</td>\n",
              "      <td>964.000000</td>\n",
              "    </tr>\n",
              "    <tr>\n",
              "      <th>max</th>\n",
              "      <td>11191.000000</td>\n",
              "      <td>666666.000000</td>\n",
              "      <td>99.000000</td>\n",
              "      <td>1493.000000</td>\n",
              "      <td>199.000000</td>\n",
              "      <td>1725.000000</td>\n",
              "      <td>259.000000</td>\n",
              "      <td>262.000000</td>\n",
              "      <td>321.000000</td>\n",
              "      <td>15.000000</td>\n",
              "      <td>...</td>\n",
              "      <td>1.000000</td>\n",
              "      <td>1.000000</td>\n",
              "      <td>1.000000</td>\n",
              "      <td>1.000000</td>\n",
              "      <td>1.000000</td>\n",
              "      <td>1.000000</td>\n",
              "      <td>129.000000</td>\n",
              "      <td>3.000000</td>\n",
              "      <td>5.000000</td>\n",
              "      <td>2491.000000</td>\n",
              "    </tr>\n",
              "  </tbody>\n",
              "</table>\n",
              "<p>8 rows × 25 columns</p>\n",
              "</div>\n",
              "      <button class=\"colab-df-convert\" onclick=\"convertToInteractive('df-c22a8680-50da-4292-98cc-e68eefa86d18')\"\n",
              "              title=\"Convert this dataframe to an interactive table.\"\n",
              "              style=\"display:none;\">\n",
              "        \n",
              "  <svg xmlns=\"http://www.w3.org/2000/svg\" height=\"24px\"viewBox=\"0 0 24 24\"\n",
              "       width=\"24px\">\n",
              "    <path d=\"M0 0h24v24H0V0z\" fill=\"none\"/>\n",
              "    <path d=\"M18.56 5.44l.94 2.06.94-2.06 2.06-.94-2.06-.94-.94-2.06-.94 2.06-2.06.94zm-11 1L8.5 8.5l.94-2.06 2.06-.94-2.06-.94L8.5 2.5l-.94 2.06-2.06.94zm10 10l.94 2.06.94-2.06 2.06-.94-2.06-.94-.94-2.06-.94 2.06-2.06.94z\"/><path d=\"M17.41 7.96l-1.37-1.37c-.4-.4-.92-.59-1.43-.59-.52 0-1.04.2-1.43.59L10.3 9.45l-7.72 7.72c-.78.78-.78 2.05 0 2.83L4 21.41c.39.39.9.59 1.41.59.51 0 1.02-.2 1.41-.59l7.78-7.78 2.81-2.81c.8-.78.8-2.07 0-2.86zM5.41 20L4 18.59l7.72-7.72 1.47 1.35L5.41 20z\"/>\n",
              "  </svg>\n",
              "      </button>\n",
              "      \n",
              "  <style>\n",
              "    .colab-df-container {\n",
              "      display:flex;\n",
              "      flex-wrap:wrap;\n",
              "      gap: 12px;\n",
              "    }\n",
              "\n",
              "    .colab-df-convert {\n",
              "      background-color: #E8F0FE;\n",
              "      border: none;\n",
              "      border-radius: 50%;\n",
              "      cursor: pointer;\n",
              "      display: none;\n",
              "      fill: #1967D2;\n",
              "      height: 32px;\n",
              "      padding: 0 0 0 0;\n",
              "      width: 32px;\n",
              "    }\n",
              "\n",
              "    .colab-df-convert:hover {\n",
              "      background-color: #E2EBFA;\n",
              "      box-shadow: 0px 1px 2px rgba(60, 64, 67, 0.3), 0px 1px 3px 1px rgba(60, 64, 67, 0.15);\n",
              "      fill: #174EA6;\n",
              "    }\n",
              "\n",
              "    [theme=dark] .colab-df-convert {\n",
              "      background-color: #3B4455;\n",
              "      fill: #D2E3FC;\n",
              "    }\n",
              "\n",
              "    [theme=dark] .colab-df-convert:hover {\n",
              "      background-color: #434B5C;\n",
              "      box-shadow: 0px 1px 3px 1px rgba(0, 0, 0, 0.15);\n",
              "      filter: drop-shadow(0px 1px 2px rgba(0, 0, 0, 0.3));\n",
              "      fill: #FFFFFF;\n",
              "    }\n",
              "  </style>\n",
              "\n",
              "      <script>\n",
              "        const buttonEl =\n",
              "          document.querySelector('#df-c22a8680-50da-4292-98cc-e68eefa86d18 button.colab-df-convert');\n",
              "        buttonEl.style.display =\n",
              "          google.colab.kernel.accessAllowed ? 'block' : 'none';\n",
              "\n",
              "        async function convertToInteractive(key) {\n",
              "          const element = document.querySelector('#df-c22a8680-50da-4292-98cc-e68eefa86d18');\n",
              "          const dataTable =\n",
              "            await google.colab.kernel.invokeFunction('convertToInteractive',\n",
              "                                                     [key], {});\n",
              "          if (!dataTable) return;\n",
              "\n",
              "          const docLinkHtml = 'Like what you see? Visit the ' +\n",
              "            '<a target=\"_blank\" href=https://colab.research.google.com/notebooks/data_table.ipynb>data table notebook</a>'\n",
              "            + ' to learn more about interactive tables.';\n",
              "          element.innerHTML = '';\n",
              "          dataTable['output_type'] = 'display_data';\n",
              "          await google.colab.output.renderOutput(dataTable, element);\n",
              "          const docLink = document.createElement('div');\n",
              "          docLink.innerHTML = docLinkHtml;\n",
              "          element.appendChild(docLink);\n",
              "        }\n",
              "      </script>\n",
              "    </div>\n",
              "  </div>\n",
              "  "
            ]
          },
          "metadata": {},
          "execution_count": 13
        }
      ]
    },
    {
      "cell_type": "code",
      "source": [
        "print(df.corr())\n"
      ],
      "metadata": {
        "colab": {
          "base_uri": "https://localhost:8080/"
        },
        "id": "9-rWzumqLX49",
        "outputId": "202498b3-7376-442a-970c-7298a6337ad5"
      },
      "execution_count": 14,
      "outputs": [
        {
          "output_type": "stream",
          "name": "stdout",
          "text": [
            "                           ID    Income   Recency  MntWines  MntFruits  \\\n",
            "ID                   1.000000  0.013095 -0.044376 -0.021084   0.007326   \n",
            "Income               0.013095  1.000000 -0.003970  0.578650   0.430842   \n",
            "Recency             -0.044376 -0.003970  1.000000  0.015721  -0.005844   \n",
            "MntWines            -0.021084  0.578650  0.015721  1.000000   0.387024   \n",
            "MntFruits            0.007326  0.430842 -0.005844  0.387024   1.000000   \n",
            "MntMeatProducts     -0.005902  0.584633  0.022518  0.568860   0.547822   \n",
            "MntFishProducts     -0.023992  0.438871  0.000551  0.397721   0.593431   \n",
            "MntSweetProducts    -0.005936  0.440744  0.025110  0.390326   0.571606   \n",
            "MntGoldProds        -0.011172  0.325916  0.017663  0.392731   0.396487   \n",
            "NumDealsPurchases   -0.040612 -0.083101  0.002115  0.008886  -0.134512   \n",
            "NumWebPurchases     -0.018476  0.387878 -0.005641  0.553786   0.302039   \n",
            "NumCatalogPurchases -0.002274  0.589162  0.024081  0.634753   0.486263   \n",
            "NumStorePurchases   -0.013070  0.529362 -0.000434  0.640012   0.458491   \n",
            "NumWebVisitsMonth   -0.007794 -0.553088 -0.018564 -0.321978  -0.418729   \n",
            "AcceptedCmp3        -0.035890 -0.016174 -0.032257  0.061463   0.014424   \n",
            "AcceptedCmp4        -0.023933  0.184400  0.017566  0.373143   0.006396   \n",
            "AcceptedCmp5        -0.007064  0.335943 -0.000482  0.473550   0.212871   \n",
            "AcceptedCmp1        -0.018219  0.276820 -0.021061  0.351417   0.191816   \n",
            "AcceptedCmp2        -0.014994  0.087545 -0.001400  0.206185  -0.009980   \n",
            "Complain             0.034154 -0.027225  0.013637 -0.039470  -0.005324   \n",
            "Response            -0.021491  0.133047 -0.199766  0.246299   0.122443   \n",
            "age                 -0.002355  0.161791  0.016295  0.159451   0.017747   \n",
            "dependence          -0.000957 -0.293352  0.018290 -0.353748  -0.395901   \n",
            "Acceptedall         -0.035133  0.287984 -0.090392  0.487420   0.168594   \n",
            "Mnttotal            -0.016809  0.668062  0.019374  0.897674   0.604979   \n",
            "\n",
            "                     MntMeatProducts  MntFishProducts  MntSweetProducts  \\\n",
            "ID                         -0.005902        -0.023992         -0.005936   \n",
            "Income                      0.584633         0.438871          0.440744   \n",
            "Recency                     0.022518         0.000551          0.025110   \n",
            "MntWines                    0.568860         0.397721          0.390326   \n",
            "MntFruits                   0.547822         0.593431          0.571606   \n",
            "MntMeatProducts             1.000000         0.573574          0.535136   \n",
            "MntFishProducts             0.573574         1.000000          0.583867   \n",
            "MntSweetProducts            0.535136         0.583867          1.000000   \n",
            "MntGoldProds                0.359446         0.427142          0.357450   \n",
            "NumDealsPurchases          -0.121308        -0.143241         -0.121432   \n",
            "NumWebPurchases             0.307090         0.299688          0.333937   \n",
            "NumCatalogPurchases         0.734127         0.532757          0.495136   \n",
            "NumStorePurchases           0.486006         0.457745          0.455225   \n",
            "NumWebVisitsMonth          -0.539484        -0.446423         -0.422371   \n",
            "AcceptedCmp3                0.018438        -0.000219          0.001780   \n",
            "AcceptedCmp4                0.091618         0.016105          0.029313   \n",
            "AcceptedCmp5                0.376867         0.196277          0.259230   \n",
            "AcceptedCmp1                0.313076         0.261608          0.245102   \n",
            "AcceptedCmp2                0.043521         0.002345          0.010188   \n",
            "Complain                   -0.023782        -0.021220         -0.022641   \n",
            "Response                    0.237746         0.108145          0.116170   \n",
            "age                         0.033697         0.040425          0.020204   \n",
            "dependence                 -0.504545        -0.427841         -0.389411   \n",
            "Acceptedall                 0.329009         0.177344          0.199870   \n",
            "Mnttotal                    0.851305         0.632647          0.602021   \n",
            "\n",
            "                     MntGoldProds  NumDealsPurchases  ...  AcceptedCmp4  \\\n",
            "ID                      -0.011172          -0.040612  ...     -0.023933   \n",
            "Income                   0.325916          -0.083101  ...      0.184400   \n",
            "Recency                  0.017663           0.002115  ...      0.017566   \n",
            "MntWines                 0.392731           0.008886  ...      0.373143   \n",
            "MntFruits                0.396487          -0.134512  ...      0.006396   \n",
            "MntMeatProducts          0.359446          -0.121308  ...      0.091618   \n",
            "MntFishProducts          0.427142          -0.143241  ...      0.016105   \n",
            "MntSweetProducts         0.357450          -0.121432  ...      0.029313   \n",
            "MntGoldProds             1.000000           0.051905  ...      0.024015   \n",
            "NumDealsPurchases        0.051905           1.000000  ...      0.016077   \n",
            "NumWebPurchases          0.407066           0.241440  ...      0.162932   \n",
            "NumCatalogPurchases      0.442428          -0.012118  ...      0.140182   \n",
            "NumStorePurchases        0.389180           0.066107  ...      0.178020   \n",
            "NumWebVisitsMonth       -0.247691           0.346048  ...     -0.028666   \n",
            "AcceptedCmp3             0.124958          -0.023135  ...     -0.079659   \n",
            "AcceptedCmp4             0.024015           0.016077  ...      1.000000   \n",
            "AcceptedCmp5             0.181397          -0.184253  ...      0.311314   \n",
            "AcceptedCmp1             0.170132          -0.127374  ...      0.242782   \n",
            "AcceptedCmp2             0.050734          -0.037981  ...      0.295050   \n",
            "Complain                -0.031133           0.000497  ...     -0.027652   \n",
            "Response                 0.140332           0.003451  ...      0.180205   \n",
            "age                      0.064208           0.058668  ...      0.066109   \n",
            "dependence              -0.268918           0.436076  ...     -0.088254   \n",
            "Acceptedall              0.205997          -0.094305  ...      0.537941   \n",
            "Mnttotal                 0.462492          -0.073448  ...      0.257735   \n",
            "\n",
            "                     AcceptedCmp5  AcceptedCmp1  AcceptedCmp2  Complain  \\\n",
            "ID                      -0.007064     -0.018219     -0.014994  0.034154   \n",
            "Income                   0.335943      0.276820      0.087545 -0.027225   \n",
            "Recency                 -0.000482     -0.021061     -0.001400  0.013637   \n",
            "MntWines                 0.473550      0.351417      0.206185 -0.039470   \n",
            "MntFruits                0.212871      0.191816     -0.009980 -0.005324   \n",
            "MntMeatProducts          0.376867      0.313076      0.043521 -0.023782   \n",
            "MntFishProducts          0.196277      0.261608      0.002345 -0.021220   \n",
            "MntSweetProducts         0.259230      0.245102      0.010188 -0.022641   \n",
            "MntGoldProds             0.181397      0.170132      0.050734 -0.031133   \n",
            "NumDealsPurchases       -0.184253     -0.127374     -0.037981  0.000497   \n",
            "NumWebPurchases          0.141189      0.159292      0.034829 -0.016642   \n",
            "NumCatalogPurchases      0.322471      0.309026      0.099915 -0.020839   \n",
            "NumStorePurchases        0.212954      0.178743      0.085271 -0.016941   \n",
            "NumWebVisitsMonth       -0.277883     -0.194773     -0.007362  0.019785   \n",
            "AcceptedCmp3             0.080248      0.095683      0.071702  0.008124   \n",
            "AcceptedCmp4             0.311314      0.242782      0.295050 -0.027652   \n",
            "AcceptedCmp5             1.000000      0.407878      0.222121 -0.009576   \n",
            "AcceptedCmp1             0.407878      1.000000      0.176637 -0.025594   \n",
            "AcceptedCmp2             0.222121      0.176637      1.000000 -0.011459   \n",
            "Complain                -0.009576     -0.025594     -0.011459  1.000000   \n",
            "Response                 0.323374      0.297345      0.169294 -0.002029   \n",
            "age                     -0.010575      0.009611      0.006717  0.030407   \n",
            "dependence              -0.285761     -0.230068     -0.069955  0.031774   \n",
            "Acceptedall              0.676795      0.634658      0.418151 -0.017852   \n",
            "Mnttotal                 0.474947      0.382520      0.137673 -0.036300   \n",
            "\n",
            "                     Response       age  dependence  Acceptedall  Mnttotal  \n",
            "ID                  -0.021491 -0.002355   -0.000957    -0.035133 -0.016809  \n",
            "Income               0.133047  0.161791   -0.293352     0.287984  0.668062  \n",
            "Recency             -0.199766  0.016295    0.018290    -0.090392  0.019374  \n",
            "MntWines             0.246299  0.159451   -0.353748     0.487420  0.897674  \n",
            "MntFruits            0.122443  0.017747   -0.395901     0.168594  0.604979  \n",
            "MntMeatProducts      0.237746  0.033697   -0.504545     0.329009  0.851305  \n",
            "MntFishProducts      0.108145  0.040425   -0.427841     0.177344  0.632647  \n",
            "MntSweetProducts     0.116170  0.020204   -0.389411     0.199870  0.602021  \n",
            "MntGoldProds         0.140332  0.064208   -0.268918     0.205997  0.462492  \n",
            "NumDealsPurchases    0.003451  0.058668    0.436076    -0.094305 -0.073448  \n",
            "NumWebPurchases      0.151431  0.153051   -0.148871     0.210444  0.515999  \n",
            "NumCatalogPurchases  0.219914  0.121764   -0.443474     0.351572  0.775539  \n",
            "NumStorePurchases    0.036241  0.127891   -0.323213     0.168816  0.670327  \n",
            "NumWebVisitsMonth   -0.002209 -0.123904    0.416076    -0.126843 -0.499083  \n",
            "AcceptedCmp3         0.254005 -0.061784   -0.019376     0.429892  0.044186  \n",
            "AcceptedCmp4         0.180205  0.066109   -0.088254     0.537941  0.257735  \n",
            "AcceptedCmp5         0.323374 -0.010575   -0.285761     0.676795  0.474947  \n",
            "AcceptedCmp1         0.297345  0.009611   -0.230068     0.634658  0.382520  \n",
            "AcceptedCmp2         0.169294  0.006717   -0.069955     0.418151  0.137673  \n",
            "Complain            -0.002029  0.030407    0.031774    -0.017852 -0.036300  \n",
            "Response             1.000000 -0.023692   -0.167648     0.725565  0.263298  \n",
            "age                 -0.023692  1.000000    0.087398    -0.007746  0.112779  \n",
            "dependence          -0.167648  0.087398    1.000000    -0.254282 -0.498392  \n",
            "Acceptedall          0.725565 -0.007746   -0.254282     1.000000  0.455383  \n",
            "Mnttotal             0.263298  0.112779   -0.498392     0.455383  1.000000  \n",
            "\n",
            "[25 rows x 25 columns]\n"
          ]
        }
      ]
    },
    {
      "cell_type": "code",
      "source": [
        "df2= pd.DataFrame(df[['ID','Income','Marital_Status','NumDealsPurchases', 'NumWebPurchases','NumCatalogPurchases', 'NumStorePurchases', 'NumWebVisitsMonth','Mnttotal']])\n",
        "df2 = df2.pivot(index=['ID','Income','NumDealsPurchases', 'NumWebPurchases','NumCatalogPurchases', 'NumStorePurchases', 'NumWebVisitsMonth'] ,columns ='Marital_Status',values ='Mnttotal').reset_index()"
      ],
      "metadata": {
        "id": "unR4MJEKQvTN"
      },
      "execution_count": 17,
      "outputs": []
    },
    {
      "cell_type": "code",
      "source": [
        "df2=df2.fillna(0)\n",
        "cor_marial_status = df2.corr()\n",
        "mask = np.triu(np.ones_like(cor_marial_status))\n",
        "adjusted_mask = mask[1:, :-1]\n",
        "adjusted_cor_marial_status= cor_marial_status.iloc[1:,:-1]\n",
        "cmap = sns.color_palette(\"ch:start=.2,rot=-.3\", as_cmap=True)\n",
        "plt.figure(figsize=(8,6))\n",
        "sns.heatmap(adjusted_cor_marial_status,annot=True,cmap=cmap, mask = adjusted_mask, annot_kws ={'fontsize':12}, fmt ='.2f',vmin= -1, vmax = 1)"
      ],
      "metadata": {
        "colab": {
          "base_uri": "https://localhost:8080/",
          "height": 512
        },
        "id": "L6B-VkYHYuG3",
        "outputId": "96ed4cfd-05dd-4baf-e611-66806bb3592c"
      },
      "execution_count": 18,
      "outputs": [
        {
          "output_type": "execute_result",
          "data": {
            "text/plain": [
              "<matplotlib.axes._subplots.AxesSubplot at 0x7fd7c0911880>"
            ]
          },
          "metadata": {},
          "execution_count": 18
        },
        {
          "output_type": "display_data",
          "data": {
            "text/plain": [
              "<Figure size 576x432 with 2 Axes>"
            ],
            "image/png": "[encoded data removed]"
          },
          "metadata": {
            "needs_background": "light"
          }
        }
      ]
    },
    {
      "cell_type": "code",
      "source": [
        "df5= pd.DataFrame(df[['ID','Income','Education','Mnttotal','dependence','Acceptedall']])\n",
        "df5 = df5.pivot(index=['ID','Income','dependence','Acceptedall'] ,columns ='Education',values ='Mnttotal').reset_index()"
      ],
      "metadata": {
        "id": "Kkn3OoiodTUU"
      },
      "execution_count": 25,
      "outputs": []
    },
    {
      "cell_type": "code",
      "source": [
        "Cor5 = df5.corr().reset_index()"
      ],
      "metadata": {
        "id": "KJ2sJ-o4dtXq"
      },
      "execution_count": 26,
      "outputs": []
    },
    {
      "cell_type": "code",
      "source": [
        "df5=df5.fillna(0)\n",
        "Cor5 = df5.corr()\n",
        "mask = np.triu(np.ones_like(Cor5))\n",
        "adjusted_mask = mask[1:, :-1]\n",
        "adjusted_cor5= Cor5.iloc[1:, :-1]\n",
        "plt.figure(figsize=(10,8))\n",
        "sns.heatmap(adjusted_cor5,annot=True,cmap=\"crest\", mask = adjusted_mask, annot_kws ={'fontsize':10}, fmt='.2f',vmin= -1, vmax = 1)"
      ],
      "metadata": {
        "colab": {
          "base_uri": "https://localhost:8080/",
          "height": 570
        },
        "id": "aIidMiGcdwfc",
        "outputId": "f80d7168-0ab2-424a-c4c4-b8af9c80d88f"
      },
      "execution_count": 27,
      "outputs": [
        {
          "output_type": "execute_result",
          "data": {
            "text/plain": [
              "<matplotlib.axes._subplots.AxesSubplot at 0x7fd7bea8e3a0>"
            ]
          },
          "metadata": {},
          "execution_count": 27
        },
        {
          "output_type": "display_data",
          "data": {
            "text/plain": [
              "<Figure size 720x576 with 2 Axes>"
            ],
            "image/png": "[encoded data removed]"
          },
          "metadata": {
            "needs_background": "light"
          }
        }
      ]
    }
  ]
}